{
 "cells": [
  {
   "cell_type": "code",
   "execution_count": 1,
   "metadata": {},
   "outputs": [],
   "source": [
    "import sqlite3"
   ]
  },
  {
   "cell_type": "code",
   "execution_count": 2,
   "metadata": {},
   "outputs": [],
   "source": [
    "conn = sqlite3.connect(\"songlist.db\")"
   ]
  },
  {
   "cell_type": "code",
   "execution_count": 3,
   "metadata": {},
   "outputs": [],
   "source": [
    "cur = conn.cursor()"
   ]
  },
  {
   "cell_type": "code",
   "execution_count": 4,
   "metadata": {},
   "outputs": [
    {
     "data": {
      "text/plain": [
       "<sqlite3.Cursor at 0x108365ea0>"
      ]
     },
     "execution_count": 4,
     "metadata": {},
     "output_type": "execute_result"
    }
   ],
   "source": [
    "cur.execute(\"\"\"drop table if exists allSongs\"\"\") # drop the table if is already exists\n",
    "cur.execute(\"\"\"create table allSongs(\n",
    "                id integer primary key,\n",
    "                songID int,\n",
    "                name str, \n",
    "                artist str,\n",
    "                genre varchar(2),\n",
    "                year int,\n",
    "                duration int,\n",
    "                wordCount int)\n",
    "\"\"\")"
   ]
  },
  {
   "cell_type": "code",
   "execution_count": 5,
   "metadata": {},
   "outputs": [
    {
     "data": {
      "text/plain": [
       "<sqlite3.Cursor at 0x108365ea0>"
      ]
     },
     "execution_count": 5,
     "metadata": {},
     "output_type": "execute_result"
    }
   ],
   "source": [
    "songID = 1\n",
    "name = \"Take Me Home Country Roads\"\n",
    "artist = \"John Denver\"\n",
    "genre = 'ct'\n",
    "year = 1971\n",
    "duration = 198\n",
    "wordCount = 177\n",
    "\n",
    "cur.execute(\"\"\"insert into allSongs(songID, name, artist, genre, year,duration,wordCount) values {}\"\"\".format(tuple([songID,name,artist,genre,year,duration,wordCount])))\n"
   ]
  },
  {
   "cell_type": "code",
   "execution_count": 6,
   "metadata": {},
   "outputs": [
    {
     "data": {
      "text/plain": [
       "[('Take Me Home Country Roads', 'John Denver', 'ct')]"
      ]
     },
     "execution_count": 6,
     "metadata": {},
     "output_type": "execute_result"
    }
   ],
   "source": [
    "#conn = sqlite3.connect(\"songlist.db\")\n",
    "#cur = conn.cursor()\n",
    "cur.execute(\"\"\"Select name, artist, genre From allSongs\"\"\")\n",
    "cur.fetchall()"
   ]
  },
  {
   "cell_type": "code",
   "execution_count": 11,
   "metadata": {},
   "outputs": [
    {
     "name": "stdout",
     "output_type": "stream",
     "text": [
      "[(1, 'Take Me Home Country Roads', 'John Denver', 'ct', 1971, 198, 177)]\n"
     ]
    }
   ],
   "source": [
    "def songSearch(conds=\"year>1900\",\n",
    "               cols=\"songID, name, artist, genre, year, duration, wordcount\"):\n",
    "    cur.execute(\"\"\"Select {0} From allSongs\"\"\".format(cols))\n",
    "    info = cur.fetchall()\n",
    "    print(info)\n",
    "songSearch()"
   ]
  },
  {
   "cell_type": "code",
   "execution_count": 8,
   "metadata": {},
   "outputs": [],
   "source": [
    "conn.commit()"
   ]
  },
  {
   "cell_type": "code",
   "execution_count": null,
   "metadata": {},
   "outputs": [],
   "source": []
  },
  {
   "cell_type": "code",
   "execution_count": 21,
   "metadata": {},
   "outputs": [
    {
     "name": "stdout",
     "output_type": "stream",
     "text": [
      "[('Take Me Home Country Roads', 'John Denver', 'ct', 1971, 198, 177)]\n"
     ]
    }
   ],
   "source": [
    "conn = sqlite3.connect(\"songlist.db\")\n",
    "cur = conn.cursor()\n",
    "def songSearch(cols=\"name, artist, genre, year, duration, wordcount\",\n",
    "        conds=\"year>1900\"):\n",
    "    cur.execute(\"\"\"Select {0} From allSongs where {1}\"\"\".format(cols,conds))\n",
    "    info = cur.fetchall()\n",
    "    print(info)\n",
    "songSearch()"
   ]
  },
  {
   "cell_type": "code",
   "execution_count": 26,
   "metadata": {},
   "outputs": [],
   "source": [
    "class Song():\n",
    "    '''Song object\n",
    "    \n",
    "    Parameters\n",
    "    ----------\n",
    "    Song title : str\n",
    "        Full title of song as determined by database search.\n",
    "    \n",
    "    Attributes\n",
    "    ----------\n",
    "    songID: int\n",
    "        unique integer identifier\n",
    "    name: str\n",
    "        name of the song\n",
    "    artist: str\n",
    "        artist of the song\n",
    "    genre: str\n",
    "        2 letter genre identifier\n",
    "    year: int\n",
    "        year song was produced\n",
    "    duration: int\n",
    "        how long, in seconds, the song lasts\n",
    "    wordCount: int\n",
    "        number of words in the song\n",
    "    '''\n",
    "    \n",
    "    def __init__(self, songID):\n",
    "        self.songID = songID\n",
    "        self.info()\n",
    "        pass\n",
    "    \n",
    "    def info(self):\n",
    "        cur.execute(\"\"\"Select name, artist, genre,\n",
    "        year, duration, wordCount From allSongs where songID={}\"\"\".format(self.songID))\n",
    "        info = cur.fetchall()[0]\n",
    "        self.name = info[0]\n",
    "        self.artist = info[1]\n",
    "        self.genre = info[2]\n",
    "        self.year = info[3]\n",
    "        self.duration = info[4]\n",
    "        self.wordCount = info[5]"
   ]
  },
  {
   "cell_type": "code",
   "execution_count": 23,
   "metadata": {},
   "outputs": [
    {
     "data": {
      "text/plain": [
       "[('Take Me Home Country Roads', 'John Denver', 'ct')]"
      ]
     },
     "execution_count": 23,
     "metadata": {},
     "output_type": "execute_result"
    }
   ],
   "source": [
    "\n",
    "cur.execute(\"\"\"Select name, artist, genre From allSongs where songID={}\"\"\".format(1))\n",
    "cur.fetchall()"
   ]
  },
  {
   "cell_type": "code",
   "execution_count": 28,
   "metadata": {},
   "outputs": [],
   "source": [
    "tmh = Song(1)"
   ]
  },
  {
   "cell_type": "code",
   "execution_count": 29,
   "metadata": {},
   "outputs": [
    {
     "data": {
      "text/plain": [
       "'Take Me Home Country Roads'"
      ]
     },
     "execution_count": 29,
     "metadata": {},
     "output_type": "execute_result"
    }
   ],
   "source": [
    "tmh.name"
   ]
  },
  {
   "cell_type": "code",
   "execution_count": null,
   "metadata": {},
   "outputs": [],
   "source": []
  }
 ],
 "metadata": {
  "kernelspec": {
   "display_name": "Python 3",
   "language": "python",
   "name": "python3"
  },
  "language_info": {
   "codemirror_mode": {
    "name": "ipython",
    "version": 3
   },
   "file_extension": ".py",
   "mimetype": "text/x-python",
   "name": "python",
   "nbconvert_exporter": "python",
   "pygments_lexer": "ipython3",
   "version": "3.6.1"
  }
 },
 "nbformat": 4,
 "nbformat_minor": 2
}
