{
 "cells": [
  {
   "cell_type": "code",
   "execution_count": 1,
   "metadata": {},
   "outputs": [],
   "source": [
    "import sqlite3"
   ]
  },
  {
   "cell_type": "code",
   "execution_count": 2,
   "metadata": {},
   "outputs": [],
   "source": [
    "conn = sqlite3.connect(\"songlist.db\")"
   ]
  },
  {
   "cell_type": "code",
   "execution_count": 3,
   "metadata": {},
   "outputs": [],
   "source": [
    "cur = conn.cursor()"
   ]
  },
  {
   "cell_type": "code",
   "execution_count": 6,
   "metadata": {},
   "outputs": [
    {
     "data": {
      "text/plain": [
       "<sqlite3.Cursor at 0x10f061ea0>"
      ]
     },
     "execution_count": 6,
     "metadata": {},
     "output_type": "execute_result"
    }
   ],
   "source": [
    "cur.execute(\"\"\"drop table if exists allSongs\"\"\") # drop the table if is already exists\n",
    "cur.execute(\"\"\"create table allSongs(\n",
    "                id integer primary key,\n",
    "                songID int,\n",
    "                name str, \n",
    "                artist str,\n",
    "                genre varchar(2),\n",
    "                year int,\n",
    "                duration int,\n",
    "                wordCount int)\n",
    "\"\"\")"
   ]
  },
  {
   "cell_type": "code",
   "execution_count": 13,
   "metadata": {},
   "outputs": [
    {
     "data": {
      "text/plain": [
       "<sqlite3.Cursor at 0x10f061ea0>"
      ]
     },
     "execution_count": 13,
     "metadata": {},
     "output_type": "execute_result"
    }
   ],
   "source": [
    "songID = 1\n",
    "name = \"Take Me Home Country Roads\"\n",
    "artist = \"John Denver\"\n",
    "genre = 'ct'\n",
    "year = 1971\n",
    "duration = 198\n",
    "wordCount = 177\n",
    "\n",
    "cur.execute(\"\"\"insert into allSongs(songID, name, artist, genre, year,duration,wordCount) values {}\"\"\".format(tuple([songID,name,artist,genre,year,duration,wordCount])))\n"
   ]
  },
  {
   "cell_type": "code",
   "execution_count": 18,
   "metadata": {},
   "outputs": [
    {
     "data": {
      "text/plain": [
       "('Take Me Home Country Roads', 'John Denver', 'ct')"
      ]
     },
     "execution_count": 18,
     "metadata": {},
     "output_type": "execute_result"
    }
   ],
   "source": [
    "cur.execute(\"\"\"Select name, artist, genre From allSongs\"\"\")\n",
    "cur.fetchall()[0]"
   ]
  },
  {
   "cell_type": "code",
   "execution_count": 42,
   "metadata": {},
   "outputs": [
    {
     "name": "stdout",
     "output_type": "stream",
     "text": [
      "[]\n"
     ]
    }
   ],
   "source": [
    "def songSearch(conds=\"year>1900\",\n",
    "               cols=\"name, artist, genre, year, duration, wordcount\"):\n",
    "    conn = sqlite3.connect(\"songlist.db\")\n",
    "    cur = conn.cursor()\n",
    "    cur.execute(\"\"\"Select {0} From allSongs\"\"\".format(cols))\n",
    "    info = cur.fetchall()\n",
    "    print(info)\n",
    "songSearch()"
   ]
  },
  {
   "cell_type": "code",
   "execution_count": 41,
   "metadata": {},
   "outputs": [],
   "source": [
    "conn.commit()"
   ]
  },
  {
   "cell_type": "code",
   "execution_count": 45,
   "metadata": {},
   "outputs": [
    {
     "name": "stdout",
     "output_type": "stream",
     "text": [
      "[('Take Me Home Country Roads', 'John Denver', 'ct', 1971, 198, 177)]\n"
     ]
    }
   ],
   "source": [
    "def songSearch(cols=\"name, artist, genre, year, duration, wordcount\",\n",
    "        conds=\"year>1900\"):\n",
    "    conn = sqlite3.connect(\"songlist.db\")\n",
    "    cur.execute(\"\"\"Select {0} From allSongs where {1}\"\"\".format(cols,conds))\n",
    "    info = cur.fetchall()\n",
    "    print(info)\n",
    "songSearch()"
   ]
  },
  {
   "cell_type": "code",
   "execution_count": null,
   "metadata": {},
   "outputs": [],
   "source": [
    "class Song():\n",
    "    '''Song object\n",
    "    \n",
    "    Parameters\n",
    "    ----------\n",
    "    Song title : str\n",
    "        Full title of song as determined by database search.\n",
    "    \n",
    "    Attributes\n",
    "    ----------\n",
    "    songID: int\n",
    "        unique integer identifier\n",
    "    name: str\n",
    "        name of the song\n",
    "    artist: str\n",
    "        artist of the song\n",
    "    genre: str\n",
    "        2 letter genre identifier\n",
    "    year: int\n",
    "        year song was produced\n",
    "    duration: int\n",
    "        how long, in seconds, the song lasts\n",
    "    wordCount: int\n",
    "        number of words in the song\n",
    "    '''\n",
    "    \n",
    "    def __init__(self, name):\n",
    "        self.name = name\n",
    "        pass\n",
    "    \n",
    "    def info(self):\n",
    "        conn = sqlite3.connect(\"songlist.db\")\n",
    "        cur = conn.cursor()\n",
    "        cur.execute(\"\"\"Select name, artist, genre From allSongs\"\"\")\n",
    "        info = cur.fetchall()\n",
    "        self.songID = info[0]\n",
    "        self.name = info[1]\n",
    "        self.artist = info[2]\n",
    "        self.genre = info[3]\n",
    "        self.year = info[4]\n",
    "        self.duration = info[5]\n",
    "        self.wordCount = info[6]"
   ]
  }
 ],
 "metadata": {
  "kernelspec": {
   "display_name": "Python 3",
   "language": "python",
   "name": "python3"
  },
  "language_info": {
   "codemirror_mode": {
    "name": "ipython",
    "version": 3
   },
   "file_extension": ".py",
   "mimetype": "text/x-python",
   "name": "python",
   "nbconvert_exporter": "python",
   "pygments_lexer": "ipython3",
   "version": "3.6.1"
  }
 },
 "nbformat": 4,
 "nbformat_minor": 2
}
