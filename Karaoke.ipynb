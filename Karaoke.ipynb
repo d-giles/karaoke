{
 "cells": [
  {
   "cell_type": "code",
   "execution_count": 1,
   "metadata": {},
   "outputs": [],
   "source": [
    "from song import Song\n",
    "from song import Search"
   ]
  },
  {
   "cell_type": "code",
   "execution_count": 10,
   "metadata": {},
   "outputs": [
    {
     "data": {
      "text/plain": [
       "[(1, 'Take Me Home, Country Roads', 'John Denver')]"
      ]
     },
     "execution_count": 10,
     "metadata": {},
     "output_type": "execute_result"
    }
   ],
   "source": [
    "songSearch = Search(conds=\"year=1971 AND wordCount<500\")\n",
    "songSearch.info"
   ]
  },
  {
   "cell_type": "code",
   "execution_count": 3,
   "metadata": {},
   "outputs": [],
   "source": [
    "songID = songSearch.info[0][0]"
   ]
  },
  {
   "cell_type": "code",
   "execution_count": 2,
   "metadata": {},
   "outputs": [],
   "source": [
    "tmh = Song('Take Me Home, Country Roads','John Denver')"
   ]
  },
  {
   "cell_type": "code",
   "execution_count": 3,
   "metadata": {},
   "outputs": [
    {
     "name": "stdout",
     "output_type": "stream",
     "text": [
      "\n",
      "\n",
      "[Verse 1]\n",
      "Almost heaven, West Virginia\n",
      "Blue Ridge Mountains, Shenandoah River\n",
      "Life is old there, older than the trees\n",
      "Younger than the mountains, blowing like a breeze\n",
      "\n",
      "[Chorus]\n",
      "Country roads, take me home\n",
      "To the place I belong\n",
      "West Virginia, mountain mamma\n",
      "Take me home, country roads\n",
      "\n",
      "[Verse 2]\n",
      "All my memories gather round her\n",
      "Miner's lady, stranger to blue water\n",
      "Dark and dusty, painted on the sky\n",
      "Misty taste of moonshine, teardrops in my eyes\n",
      "\n",
      "[Chorus]\n",
      "Country roads, take me home\n",
      "To the place I belong\n",
      "West Virginia, mountain mamma\n",
      "Take me home, country roads\n",
      "\n",
      "[Bridge]\n",
      "I hear her voice in the morning hour she calls me\n",
      "The radio reminds me of my home far away\n",
      "Driving down the road I get a feeling\n",
      "That I should have been home yesterday, yesterday\n",
      "\n",
      "[Chorus]\n",
      "Country roads, take me home\n",
      "To the place I belong\n",
      "West Virginia, mountain mamma\n",
      "Take me home, country roads\n",
      "Country roads, take me home\n",
      "To the place I belong\n",
      "West Virginia, mountain mamma\n",
      "Take me home, country roads\n",
      "\n",
      "[Outro]\n",
      "Take me home, (down) country roads\n",
      "Take me home, (down) country roads\n",
      "\n",
      "\n"
     ]
    }
   ],
   "source": [
    "tmh.lyrics()"
   ]
  },
  {
   "cell_type": "code",
   "execution_count": 3,
   "metadata": {},
   "outputs": [
    {
     "name": "stdout",
     "output_type": "stream",
     "text": [
      "\n",
      "\n",
      "[Verse]\n",
      "It's late in the evening she's wondering what clothes to wear\n",
      "She puts on her make-up and brushes her long blonde hair\n",
      "And then she asks me, \"Do I look all right?\"\n",
      "And I say, \"Yes, you look wonderful tonight\"\n",
      "\n",
      "[Verse]\n",
      "We go to a party and everyone turns to see\n",
      "This beautiful lady that's walking around with me\n",
      "And then she asks me \"Do you feel all right?\"\n",
      "And I say, \"Yes, I feel wonderful tonight\"\n",
      "\n",
      "[Bridge]\n",
      "I feel wonderful because I see\n",
      "The love light in your eyes\n",
      "And the wonder of it all\n",
      "Is that you just don't realize how much I love you\n",
      "\n",
      "[Verse]\n",
      "It's time to go home now and I've got an aching head\n",
      "So I give her the car keys and she helps me to bed\n",
      "And then I tell her, as I turn out the light\n",
      "I say, \"My darling, you were wonderful tonight\n",
      "Oh my darling, you were wonderful tonight\"\n",
      "\n",
      "\n"
     ]
    }
   ],
   "source": [
    "ph = Song('Wonderful Tonight','Eric Clapton')\n",
    "ph.lyrics()"
   ]
  },
  {
   "cell_type": "code",
   "execution_count": null,
   "metadata": {},
   "outputs": [],
   "source": []
  }
 ],
 "metadata": {
  "kernelspec": {
   "display_name": "Python 3",
   "language": "python",
   "name": "python3"
  },
  "language_info": {
   "codemirror_mode": {
    "name": "ipython",
    "version": 3
   },
   "file_extension": ".py",
   "mimetype": "text/x-python",
   "name": "python",
   "nbconvert_exporter": "python",
   "pygments_lexer": "ipython3",
   "version": "3.6.1"
  }
 },
 "nbformat": 4,
 "nbformat_minor": 2
}
