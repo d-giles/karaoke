{
 "cells": [
  {
   "cell_type": "markdown",
   "metadata": {},
   "source": [
    "**Disclaimer!**:  99.9% of this code has been [adapted from here](https://dev.to/willamesoares/how-to-integrate-spotify-and-genius-api-to-easily-crawl-song-lyrics-with-python-4o62)"
   ]
  },
  {
   "cell_type": "code",
   "execution_count": 2,
   "metadata": {},
   "outputs": [],
   "source": [
    "import requests    #importing requests will allow us to send http requests\n",
    "from bs4 import BeautifulSoup    #used to parse html / xml"
   ]
  },
  {
   "cell_type": "code",
   "execution_count": 3,
   "metadata": {},
   "outputs": [],
   "source": [
    "f = open('dj_token.txt', 'r')\n",
    "token = f.read()"
   ]
  },
  {
   "cell_type": "code",
   "execution_count": 4,
   "metadata": {},
   "outputs": [],
   "source": [
    "def request_song_info(song_title, artist_name):\n",
    "    \"\"\"\"\"\"\n",
    "    base_url = 'https://api.genius.com'\n",
    "    headers = {'Authorization': 'Bearer ' + token}\n",
    "    search_url = base_url + '/search'\n",
    "    data = {'q': song_title + ' ' + artist_name}\n",
    "    response = requests.get(search_url, data=data, headers=headers)\n",
    "\n",
    "    return response"
   ]
  },
  {
   "cell_type": "code",
   "execution_count": 17,
   "metadata": {},
   "outputs": [],
   "source": [
    "#Enter either song title or artist name (or both!)\n",
    "song_title = 'Purple Haze'\n",
    "artist_name = 'Jimi Hendrix'"
   ]
  },
  {
   "cell_type": "code",
   "execution_count": 18,
   "metadata": {},
   "outputs": [],
   "source": [
    "#hits the genius api we created and retrieve data\n",
    "#store json file in a variable called json\n",
    "#assign 'none' to remote_song_info, to be used later\n",
    "response = request_song_info(song_title, artist_name)\n",
    "json = response.json()\n",
    "remote_song_info = None\n"
   ]
  },
  {
   "cell_type": "code",
   "execution_count": 19,
   "metadata": {},
   "outputs": [
    {
     "name": "stdout",
     "output_type": "stream",
     "text": [
      "https://genius.com/Genius-lists-songs-that-reference-drugs-lyrics\n"
     ]
    }
   ],
   "source": [
    "print(json['response']['hits'][0]['result']['url'])"
   ]
  },
  {
   "cell_type": "code",
   "execution_count": 20,
   "metadata": {},
   "outputs": [
    {
     "name": "stdout",
     "output_type": "stream",
     "text": [
      "Songs That Reference Drugs by Genius Lists\n",
      "2015 Walk-Up Songs by Chicago Cubs\n",
      "Song Titles That Are Also Movies - \"P\" by Screen Genius\n",
      "Purple Clouds by Alexander Anderson\n",
      "Another One by AMad (Ft. Deezy Don and Element)\n",
      "Purple Haze by The Jimi Hendrix Experience\n",
      "Purple Haze (Live) by Jimi Hendrix\n",
      "The 500 Greatest Songs of All Time by Rolling Stone\n",
      "Dream Album: Future by hotstreak772 by Dream Album: Future by hotstreak772\n",
      "Unsigned Hype: DJ Shadow by The Source (Magazine) (Ft. DJ Shadow)\n"
     ]
    }
   ],
   "source": [
    "#print all songs and artists retrieved\n",
    "for hit in json['response']['hits']:\n",
    "    print(hit['result']['full_title'])"
   ]
  },
  {
   "cell_type": "code",
   "execution_count": 21,
   "metadata": {},
   "outputs": [],
   "source": [
    "#stores data only if the artist name matches\n",
    "for hit in json['response']['hits']:\n",
    "    if artist_name.lower() in hit['result']['primary_artist']['name'].lower():\n",
    "        remote_song_info = hit\n",
    "        break"
   ]
  },
  {
   "cell_type": "code",
   "execution_count": 22,
   "metadata": {},
   "outputs": [],
   "source": [
    "#assign song url to 'song_url'\n",
    "if remote_song_info:\n",
    "    song_url = remote_song_info['result']['url']"
   ]
  },
  {
   "cell_type": "code",
   "execution_count": 23,
   "metadata": {},
   "outputs": [],
   "source": [
    "#function to print song lyrics\n",
    "def scrap_song_url(url):\n",
    "    page = requests.get(url)\n",
    "    html = BeautifulSoup(page.text, 'html.parser')\n",
    "    lyrics = html.find('div', class_='lyrics').get_text()\n",
    "\n",
    "    return lyrics"
   ]
  },
  {
   "cell_type": "code",
   "execution_count": 24,
   "metadata": {},
   "outputs": [
    {
     "name": "stdout",
     "output_type": "stream",
     "text": [
      "\n",
      "\n",
      "[Verse 1]\n",
      "Purple haze all in my brain\n",
      "Lately things just don't seem the same\n",
      "Acting funny, but I don't know why\n",
      "Excuse me while I kiss the sky\n",
      "\n",
      "[Verse 2]\n",
      "Purple haze all around\n",
      "Don't know if I'm coming up or down\n",
      "Am I happy or in misery?\n",
      "Whatever it is, that girl put a spell on me\n",
      "\n",
      "[Instrumental]\n",
      "\n",
      "[Verse 3]\n",
      "Purple haze all in my eyes\n",
      "Don't know if it's day or night\n",
      "You got me blowing, blowing my mind\n",
      "Is it tomorrow, or just the end of time?\n",
      "\n",
      "[Outro]\n",
      "No, help me\n",
      "No, yeah purple haze\n",
      "Oh no, no\n",
      "Oh help me\n",
      "Tell me, tell me\n",
      "Can't go on like this\n",
      "You make me blow my mind\n",
      "No, no, no\n",
      "No, no, purple haze\n",
      "\n",
      "\n"
     ]
    }
   ],
   "source": [
    "lyrics = scrap_song_url(song_url)\n",
    "print(lyrics)"
   ]
  },
  {
   "cell_type": "code",
   "execution_count": null,
   "metadata": {},
   "outputs": [],
   "source": []
  }
 ],
 "metadata": {
  "kernelspec": {
   "display_name": "Python 3",
   "language": "python",
   "name": "python3"
  },
  "language_info": {
   "codemirror_mode": {
    "name": "ipython",
    "version": 3
   },
   "file_extension": ".py",
   "mimetype": "text/x-python",
   "name": "python",
   "nbconvert_exporter": "python",
   "pygments_lexer": "ipython3",
   "version": "3.6.1"
  }
 },
 "nbformat": 4,
 "nbformat_minor": 2
}
