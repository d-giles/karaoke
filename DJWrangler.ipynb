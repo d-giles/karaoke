{
 "cells": [
  {
   "cell_type": "markdown",
   "metadata": {},
   "source": [
    "**Disclaimer!**:  99.9% of this code has been [adapted from here](https://dev.to/willamesoares/how-to-integrate-spotify-and-genius-api-to-easily-crawl-song-lyrics-with-python-4o62)"
   ]
  },
  {
   "cell_type": "code",
   "execution_count": 2,
   "metadata": {},
   "outputs": [],
   "source": [
    "import requests    #importing requests will allow us to send http requests\n",
    "from bs4 import BeautifulSoup    #used to parse html / xml"
   ]
  },
  {
   "cell_type": "code",
   "execution_count": 3,
   "metadata": {},
   "outputs": [],
   "source": [
    "f = open('dj_token.txt', 'r')\n",
    "token = f.read()"
   ]
  },
  {
   "cell_type": "code",
   "execution_count": 4,
   "metadata": {},
   "outputs": [],
   "source": [
    "def request_song_info(song_title, artist_name):\n",
    "    \"\"\"\"\"\"\n",
    "    base_url = 'https://api.genius.com'\n",
    "    headers = {'Authorization': 'Bearer ' + token}\n",
    "    search_url = base_url + '/search'\n",
    "    data = {'q': song_title + ' ' + artist_name}\n",
    "    response = requests.get(search_url, data=data, headers=headers)\n",
    "\n",
    "    return response"
   ]
  },
  {
   "cell_type": "code",
   "execution_count": 7,
   "metadata": {},
   "outputs": [],
   "source": [
    "#Enter either song title or artist name (or both!)\n",
    "song_title = 'Purple Haze'\n",
    "artist_name = 'Jimi Hendrix'"
   ]
  },
  {
   "cell_type": "code",
   "execution_count": 8,
   "metadata": {},
   "outputs": [],
   "source": [
    "#hits the genius api we created and retrieve data\n",
    "#store json file in a variable called json\n",
    "#assign 'none' to remote_song_info, to be used later\n",
    "response = request_song_info(song_title, artist_name)\n",
    "json = response.json()\n",
    "remote_song_info = None"
   ]
  },
  {
   "cell_type": "code",
   "execution_count": 16,
   "metadata": {},
   "outputs": [
    {
     "name": "stdout",
     "output_type": "stream",
     "text": [
      "https://genius.com/John-denver-take-me-home-country-roads-lyrics\n"
     ]
    }
   ],
   "source": [
    "print(json['response']['hits'][0]['result']['url'])"
   ]
  },
  {
   "cell_type": "code",
   "execution_count": 9,
   "metadata": {},
   "outputs": [
    {
     "name": "stdout",
     "output_type": "stream",
     "text": [
      "Take Me Home, Country Roads by John Denver\n",
      "Paige's Playlist (October 2018) by This Autumn Eve\n",
      "Paige's Top 100 Songs: 2018 by This Autumn Eve\n",
      "John Denver - Take Me Home, Country Roads (Svensk översättning) by Genius Translations\n",
      "Rainbow Road (Mario a Country Road) - Parody of John Denver's Take Me Home (Country Roads) by Mangaturtle (Ft. Mangaturtle)\n",
      "​limykelsy's listening log for 2019 by Limykelsy\n",
      "Wednesday by Bargain Music\n",
      "Road Trip Playlist Songs by Genius Lists\n",
      "Folk Songs From Around the World by Country Genius\n",
      "Songs Based On Historical Events by Genius Lists\n"
     ]
    }
   ],
   "source": [
    "#print all songs and artists retrieved\n",
    "for hit in json['response']['hits']:\n",
    "    print(hit['result']['full_title'])"
   ]
  },
  {
   "cell_type": "code",
   "execution_count": 38,
   "metadata": {},
   "outputs": [],
   "source": [
    "#stores data only if the artist name matches\n",
    "for hit in json['response']['hits']:\n",
    "    if artist_name.lower() in hit['result']['primary_artist']['name'].lower():\n",
    "        remote_song_info = hit\n",
    "        break"
   ]
  },
  {
   "cell_type": "code",
   "execution_count": 39,
   "metadata": {},
   "outputs": [],
   "source": [
    "#assign song url to 'song_url'\n",
    "if remote_song_info:\n",
    "    song_url = remote_song_info['result']['url']"
   ]
  },
  {
   "cell_type": "code",
   "execution_count": 40,
   "metadata": {},
   "outputs": [],
   "source": [
    "#function to print song lyrics\n",
    "def scrap_song_url(url):\n",
    "    page = requests.get(url)\n",
    "    html = BeautifulSoup(page.text, 'html.parser')\n",
    "    lyrics = html.find('div', class_='lyrics').get_text()\n",
    "\n",
    "    return lyrics"
   ]
  },
  {
   "cell_type": "code",
   "execution_count": 43,
   "metadata": {},
   "outputs": [
    {
     "name": "stdout",
     "output_type": "stream",
     "text": [
      "\n",
      "\n",
      "[Verse 1]\n",
      "Purple haze all in my brain\n",
      "Lately things just don't seem the same\n",
      "Acting funny, but I don't know why\n",
      "Excuse me while I kiss the sky\n",
      "\n",
      "[Verse 2]\n",
      "Purple haze all around\n",
      "Don't know if I'm coming up or down\n",
      "Am I happy or in misery?\n",
      "Whatever it is, that girl put a spell on me\n",
      "\n",
      "[Instrumental]\n",
      "\n",
      "[Verse 3]\n",
      "Purple haze all in my eyes\n",
      "Don't know if it's day or night\n",
      "You got me blowing, blowing my mind\n",
      "Is it tomorrow, or just the end of time?\n",
      "\n",
      "[Outro]\n",
      "No, help me\n",
      "No, yeah purple haze\n",
      "Oh no, no\n",
      "Oh help me\n",
      "Tell me, tell me\n",
      "Can't go on like this\n",
      "You make me blow my mind\n",
      "No, no, no\n",
      "No, no, purple haze\n",
      "\n",
      "\n"
     ]
    }
   ],
   "source": [
    "lyrics = scrap_song_url(song_url)\n",
    "print(lyrics)"
   ]
  },
  {
   "cell_type": "code",
   "execution_count": null,
   "metadata": {},
   "outputs": [],
   "source": []
  }
 ],
 "metadata": {
  "kernelspec": {
   "display_name": "Python 3",
   "language": "python",
   "name": "python3"
  },
  "language_info": {
   "codemirror_mode": {
    "name": "ipython",
    "version": 3
   },
   "file_extension": ".py",
   "mimetype": "text/x-python",
   "name": "python",
   "nbconvert_exporter": "python",
   "pygments_lexer": "ipython3",
   "version": "3.6.1"
  }
 },
 "nbformat": 4,
 "nbformat_minor": 2
}
